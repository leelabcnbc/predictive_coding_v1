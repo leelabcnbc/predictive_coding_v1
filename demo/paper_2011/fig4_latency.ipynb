{
 "cells": [
  {
   "cell_type": "markdown",
   "metadata": {},
   "source": [
    "this notebook partially reproduces Figure 4 of the 2011 paper."
   ]
  },
  {
   "cell_type": "code",
   "execution_count": 1,
   "metadata": {},
   "outputs": [],
   "source": [
    "%matplotlib inline\n",
    "import os\n",
    "import matplotlib.pyplot as plt"
   ]
  },
  {
   "cell_type": "code",
   "execution_count": 2,
   "metadata": {},
   "outputs": [],
   "source": [
    "import numpy as np\n",
    "from scipy.io import loadmat\n",
    "\n",
    "from torchvision.utils import make_grid\n",
    "from torch import FloatTensor\n",
    "\n",
    "from pc_v1 import dir_dictionary\n",
    "from pc_v1 import io, core"
   ]
  },
  {
   "cell_type": "code",
   "execution_count": 3,
   "metadata": {},
   "outputs": [],
   "source": [
    "# first, show all the filters.\n",
    "w_ff_on, w_ff_off = io.dim_conv_v1_filter_definitions()"
   ]
  },
  {
   "cell_type": "code",
   "execution_count": 4,
   "metadata": {},
   "outputs": [],
   "source": [
    "# adapted from <https://github.com/leelabcnbc/cnn-v1-jcns2018/blob/master/fig7_cnn.ipynb>\n",
    "def imshow_pytorch(npimg, figsize=(8, 6), title=None):\n",
    "    plt.close('all')\n",
    "    plt.figure(figsize=figsize)\n",
    "    img_to_show = np.transpose(npimg.numpy(), (1, 2, 0))\n",
    "    plt.imshow(img_to_show)\n",
    "    plt.axis('off')\n",
    "    if title is not None:\n",
    "        plt.title(title)\n",
    "\n",
    "    plt.show()"
   ]
  },
  {
   "cell_type": "code",
   "execution_count": 5,
   "metadata": {},
   "outputs": [],
   "source": [
    "def plot_groups_of_lines(xdata, data, names, style, *, ax=None, xlog=False):\n",
    "    if ax is None:\n",
    "        ax = plt.gca()\n",
    "    assert len(data) == len(names)\n",
    "\n",
    "    if isinstance(style, str):\n",
    "        style = [style]*len(data)\n",
    "    assert len(data) == len(names)\n",
    "\n",
    "    for idx, (data_this, name_this, style_this) in enumerate(zip(data, names, style)):\n",
    "        ax.plot(xdata, data_this, label=name_this, linewidth=(idx+1)*2,\n",
    "                 marker=style_this)\n",
    "    \n",
    "    if xlog:\n",
    "        ax.set_xscale('log')\n",
    "    \n",
    "    ax.legend(loc='best')"
   ]
  },
  {
   "cell_type": "code",
   "execution_count": 6,
   "metadata": {},
   "outputs": [],
   "source": [
    "def process_im_stack(ims, gain=10, nonlinear=True):\n",
    "    x_on_stack = []\n",
    "    x_off_stack = []\n",
    "    \n",
    "    for im in ims:\n",
    "        x_on, x_off = io.preprocess_image(im, gain=gain, nonlinear=nonlinear)\n",
    "        x_on_stack.append(x_on)\n",
    "        x_off_stack.append(x_off)\n",
    "    x_on_stack = np.asarray(x_on_stack)\n",
    "    x_off_stack = np.asarray(x_off_stack)\n",
    "    return x_on_stack, x_off_stack"
   ]
  },
  {
   "cell_type": "code",
   "execution_count": 7,
   "metadata": {},
   "outputs": [],
   "source": [
    "# fig 5a. basic tuning properties.\n",
    "# mostly copied from `test_v1_orientation_tuning_contrast` of `/debug/V1_ResponseProperties/test_core.py`\n",
    "def fig4b():\n",
    "    \n",
    "    grating_wavel = 6\n",
    "    patch_diam = 11\n",
    "    gap = 2\n",
    "    image_size = 3 * patch_diam + 2 * gap\n",
    "    contrast = 1\n",
    "    phase = 0\n",
    "    im_all = []\n",
    "    for test in range(2):\n",
    "        # first, test, no change.\n",
    "        # second there is change, from dislike to like (for center)\n",
    "        \n",
    "        for t in range(2):\n",
    "            if t == 0:\n",
    "                im_this = io.image_centre_surround(patch_diam, gap, 0.5 * (image_size - patch_diam),\n",
    "                                                   grating_wavel, grating_wavel, 90, 90, phase, phase,\n",
    "                                                   contrast, contrast)\n",
    "            else:\n",
    "                assert t == 1\n",
    "                if test == 0:\n",
    "                    im_this = io.image_centre_surround(patch_diam, gap, 0.5 * (image_size - patch_diam),\n",
    "                                                       grating_wavel, grating_wavel, 90, 90, phase, phase,\n",
    "                                                       contrast, contrast)\n",
    "                else:\n",
    "                    assert test == 1\n",
    "                    im_this = io.image_centre_surround(patch_diam, gap, 0.5 * (image_size - patch_diam),\n",
    "                                                       grating_wavel, grating_wavel, 0, 90, phase, phase,\n",
    "                                                       contrast, contrast)\n",
    "                    \n",
    "            im_all.append(im_this.copy())\n",
    "    \n",
    "    # here I show the actual images.\n",
    "    # in the paper, those images are transposed, as noted in the paper\n",
    "    # \n",
    "    # pp. 566 top.\n",
    "    # A grating at 0° is shown as vertical in the icons used in the figures in Section 3\n",
    "    # (however, note that a grating at 0° is shown as horizontal in Spratling (2010)).\n",
    "    #\n",
    "    # also, check the code.\n",
    "    \n",
    "    imshow_pytorch(make_grid(FloatTensor(np.asarray(im_all)[:,np.newaxis]),\n",
    "                             nrow=2, normalize=False),\n",
    "                   title='test images', figsize=(16, 5))\n",
    "    \n",
    "    \n",
    "    # 26 first image and 15 second images.\n",
    "    frame1 = 26\n",
    "    frame2 = 15\n",
    "    im_frames_test1 = np.concatenate([np.broadcast_to(im_all[0], (frame1,) + im_all[0].shape),\n",
    "                                     np.broadcast_to(im_all[1], (frame2,) + im_all[1].shape)])\n",
    "    im_frames_test2 = np.concatenate([np.broadcast_to(im_all[2], (frame1,) + im_all[2].shape),\n",
    "                                     np.broadcast_to(im_all[3], (frame2,) + im_all[3].shape)])\n",
    "    model_names = ('full', 'no_lgn', 'no_inhibition')\n",
    "    \n",
    "    \n",
    "    plt.close('all')\n",
    "    fig, axes = plt.subplots(1,len(model_names),sharex=True, sharey=True, figsize=(20, 10))\n",
    "    for ax, model_type in zip(axes, model_names):\n",
    "        print(model_type)\n",
    "        if model_type == 'full':\n",
    "            # prepare all images.\n",
    "            x_on, x_off = process_im_stack(im_frames_test1)\n",
    "            #\n",
    "            y1 = core.dim_conv(w_ff_on, w_ff_off, x_on, x_off, iterations=41, epsilon2=500*0.0001*5000,\n",
    "                              verbose=False)\n",
    "            \n",
    "            \n",
    "            x_on, x_off = process_im_stack(im_frames_test2)\n",
    "            #\n",
    "            y2 = core.dim_conv(w_ff_on, w_ff_off, x_on, x_off, iterations=41, epsilon2=500*0.0001*5000,\n",
    "                              verbose=False)\n",
    "            \n",
    "            \n",
    "            \n",
    "        elif model_type == 'no_lgn':\n",
    "            \n",
    "            x_on, x_off = process_im_stack(im_frames_test1, nonlinear=False)\n",
    "            #\n",
    "            y1 = core.dim_conv(w_ff_on, w_ff_off, x_on, x_off, iterations=41, epsilon2=500*0.0001*5000,\n",
    "                              verbose=False)\n",
    "            \n",
    "            x_on, x_off = process_im_stack(im_frames_test2, nonlinear=False)\n",
    "            #\n",
    "            y2 = core.dim_conv(w_ff_on, w_ff_off, x_on, x_off, iterations=41, epsilon2=500*0.0001*5000,\n",
    "                              verbose=False)\n",
    "        elif model_type == 'no_inhibition':\n",
    "            x_on, x_off = process_im_stack(im_frames_test1)\n",
    "            #\n",
    "            y1 = core.dim_conv(w_ff_on, w_ff_off, x_on, x_off, iterations=41, epsilon2=500*0.0001*5000, \n",
    "                             linear=True,\n",
    "                              verbose=False)\n",
    "            x_on, x_off = process_im_stack(im_frames_test2)\n",
    "            y2 = core.dim_conv(w_ff_on, w_ff_off, x_on, x_off, iterations=41, epsilon2=500*0.0001*5000, \n",
    "                             linear=True,\n",
    "                              verbose=False)\n",
    "        else:\n",
    "            raise ValueError\n",
    "        \n",
    "        # then take useful part\n",
    "        assert y1.shape == y2.shape == (41,32,41,41)\n",
    "        y1 = y1[:,0,20,20]\n",
    "        y2 = y2[:,0,20,20]\n",
    "        \n",
    "        # plot.\n",
    "        plot_groups_of_lines(np.arange(-25, 16), np.asarray([y1, y2]),\n",
    "                             ['no change', 'change'], ['o', 'x'], ax=ax)\n",
    "        ax.set_title(model_type)\n",
    "    plt.show()\n",
    "        \n",
    "    \n",
    "    \n",
    "    \n",
    "    "
   ]
  },
  {
   "cell_type": "code",
   "execution_count": 8,
   "metadata": {
    "scrolled": false
   },
   "outputs": [
    {
     "data": {
      "image/png": "[encoded data removed]",
      "text/plain": [
       "<matplotlib.figure.Figure at 0x2b074b9a9dd8>"
      ]
     },
     "metadata": {},
     "output_type": "display_data"
    },
    {
     "name": "stdout",
     "output_type": "stream",
     "text": [
      "full\n",
      "no_lgn\n",
      "no_inhibition\n"
     ]
    },
    {
     "data": {
      "image/png": "[encoded data removed]",
      "text/plain": [
       "<matplotlib.figure.Figure at 0x2b074b9fd240>"
      ]
     },
     "metadata": {},
     "output_type": "display_data"
    }
   ],
   "source": [
    "fig4b()"
   ]
  },
  {
   "cell_type": "code",
   "execution_count": 9,
   "metadata": {},
   "outputs": [],
   "source": [
    "# the paper uses simple cell and static grating in the figure.\n",
    "# the paper also says that complex cell gives similar results.\n",
    "# beloe are simple (right column in figure 4, figure number in windows are row numbers) vs. complex.\n",
    "# I think the bump for complex doesn't look good, and it's not \"similar\" to simple.\n",
    "# however, maybe the author doesn't consider that too much and focus on latency.\n",
    "# not sure. see them for yourself."
   ]
  },
  {
   "cell_type": "markdown",
   "metadata": {},
   "source": [
    "# simple\n",
    "\n",
    "![](./fig4_right_simple.png)\n",
    "\n",
    "# complex\n",
    "\n",
    "![](./fig4_right_complex.png)"
   ]
  }
 ],
 "metadata": {
  "kernelspec": {
   "display_name": "Python 3",
   "language": "python",
   "name": "python3"
  },
  "language_info": {
   "codemirror_mode": {
    "name": "ipython",
    "version": 3
   },
   "file_extension": ".py",
   "mimetype": "text/x-python",
   "name": "python",
   "nbconvert_exporter": "python",
   "pygments_lexer": "ipython3",
   "version": "3.6.4"
  }
 },
 "nbformat": 4,
 "nbformat_minor": 2
}
